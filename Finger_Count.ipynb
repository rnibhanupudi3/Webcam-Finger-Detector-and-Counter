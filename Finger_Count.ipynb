{
 "cells": [
  {
   "cell_type": "markdown",
   "source": [
    "<a href=\"https://www.pieriandata.com\"><img src=\"../DATA/Logo.jpg\"></a>"
   ],
   "metadata": {}
  },
  {
   "cell_type": "markdown",
   "source": [
    "# Capstone Project\n",
    "\n",
    "## Finger Detection and Counting"
   ],
   "metadata": {}
  },
  {
   "cell_type": "markdown",
   "source": [
    "## Imports"
   ],
   "metadata": {}
  },
  {
   "cell_type": "code",
   "execution_count": 1,
   "source": [
    "import cv2\r\n",
    "import numpy as np\r\n",
    "\r\n",
    "# Used for distance calculation later on\r\n",
    "from sklearn.metrics import pairwise"
   ],
   "outputs": [],
   "metadata": {}
  },
  {
   "cell_type": "markdown",
   "source": [
    "### Global Variables\n",
    "\n",
    "We will use these as we go along."
   ],
   "metadata": {}
  },
  {
   "cell_type": "code",
   "execution_count": 2,
   "source": [
    "# This background will be a global variable that we update through a few functions\r\n",
    "background = None\r\n",
    "\r\n",
    "# Start with a halfway point between 0 and 1 of accumulated weight\r\n",
    "accumulated_weight = 0.5\r\n",
    "\r\n",
    "\r\n",
    "# Manually set up our ROI for grabbing the hand.\r\n",
    "# Feel free to change these. I just chose the top right corner for filming.\r\n",
    "roi_top = 20\r\n",
    "roi_bottom = 300\r\n",
    "roi_right = 300\r\n",
    "roi_left = 600\r\n",
    "\r\n"
   ],
   "outputs": [],
   "metadata": {}
  },
  {
   "cell_type": "markdown",
   "source": [
    "## Finding Average Background Value\n",
    "\n",
    "The function calculates the weighted sum of the input image src and the accumulator dst so that dst becomes a running average of a frame sequence:"
   ],
   "metadata": {}
  },
  {
   "cell_type": "markdown",
   "source": [],
   "metadata": {}
  },
  {
   "cell_type": "code",
   "execution_count": 3,
   "source": [
    "def calc_accum_avg(frame, accumulated_weight):\r\n",
    "    '''\r\n",
    "    Given a frame and a previous accumulated weight, computed the weighted average of the image passed in.\r\n",
    "    '''\r\n",
    "    \r\n",
    "    # Grab the background\r\n",
    "    global background\r\n",
    "    \r\n",
    "    # For first time, create the background from a copy of the frame.\r\n",
    "    if background is None:\r\n",
    "        background = frame.copy().astype(\"float\")\r\n",
    "        return None\r\n",
    "\r\n",
    "    # compute weighted average, accumulate it and update the background\r\n",
    "    cv2.accumulateWeighted(frame, background, accumulated_weight)"
   ],
   "outputs": [],
   "metadata": {}
  },
  {
   "cell_type": "markdown",
   "source": [
    "## Segment the Hand Region in Frame"
   ],
   "metadata": {}
  },
  {
   "cell_type": "code",
   "execution_count": 4,
   "source": [
    "def segment(frame, threshold=25):\r\n",
    "    global background\r\n",
    "    \r\n",
    "    # Calculates the Absolute Differentce between the backgroud and the passed in frame\r\n",
    "    diff = cv2.absdiff(background.astype(\"uint8\"), frame)\r\n",
    "\r\n",
    "    # Apply a threshold to the image so we can grab the foreground\r\n",
    "    # We only need the threshold, so we will throw away the first item in the tuple with an underscore _\r\n",
    "    _ , thresholded = cv2.threshold(diff, threshold, 255, cv2.THRESH_BINARY)\r\n",
    "\r\n",
    "    # Grab the external contours form the image\r\n",
    "    # Again, only grabbing what we need here and throwing away the rest\r\n",
    "    image, contours, hierarchy = cv2.findContours(thresholded.copy(), cv2.RETR_EXTERNAL, cv2.CHAIN_APPROX_SIMPLE)\r\n",
    "\r\n",
    "    # If length of contours list is 0, then we didn't grab any contours!\r\n",
    "    if len(contours) == 0:\r\n",
    "        return None\r\n",
    "    else:\r\n",
    "        # Given the way we are using the program, the largest external contour should be the hand (largest by area)\r\n",
    "        # This will be our segment\r\n",
    "        hand_segment = max(contours, key=cv2.contourArea)\r\n",
    "        \r\n",
    "        # Return both the hand segment and the thresholded hand image\r\n",
    "        return (thresholded, hand_segment)"
   ],
   "outputs": [],
   "metadata": {}
  },
  {
   "cell_type": "markdown",
   "source": [
    "## Counting Fingers with a Convex Hull\n",
    "\n",
    "We just calculated the external contour of the hand. Now using that segmented hand, let's see how to calculate fingers. Then we can count how many are up!\n",
    "\n",
    "Example of ConvexHulls:\n",
    "\n",
    "<img src=\"hand_convex.png\">"
   ],
   "metadata": {}
  },
  {
   "cell_type": "code",
   "execution_count": 5,
   "source": [
    "def count_fingers(thresholded, hand_segment):\r\n",
    "    \r\n",
    "    \r\n",
    "    # Calculated the convex hull of the hand segment\r\n",
    "    conv_hull = cv2.convexHull(hand_segment)\r\n",
    "    \r\n",
    "    # Now the convex hull will have at least 4 most outward points, on the top, bottom, left, and right.\r\n",
    "    # Let's grab those points by using argmin and argmax. Keep in mind, this would require reading the documentation\r\n",
    "    # And understanding the general array shape returned by the conv hull.\r\n",
    "\r\n",
    "    # Find the top, bottom, left , and right.\r\n",
    "    # Then make sure they are in tuple format\r\n",
    "    top    = tuple(conv_hull[conv_hull[:, :, 1].argmin()][0])\r\n",
    "    bottom = tuple(conv_hull[conv_hull[:, :, 1].argmax()][0])\r\n",
    "    left   = tuple(conv_hull[conv_hull[:, :, 0].argmin()][0])\r\n",
    "    right  = tuple(conv_hull[conv_hull[:, :, 0].argmax()][0])\r\n",
    "\r\n",
    "    # In theory, the center of the hand is half way between the top and bottom and halfway between left and right\r\n",
    "    cX = (left[0] + right[0]) // 2\r\n",
    "    cY = (top[1] + bottom[1]) // 2\r\n",
    "\r\n",
    "    # find the maximum euclidean distance between the center of the palm\r\n",
    "    # and the most extreme points of the convex hull\r\n",
    "    \r\n",
    "    # Calculate the Euclidean Distance between the center of the hand and the left, right, top, and bottom.\r\n",
    "    distance = pairwise.euclidean_distances([(cX, cY)], Y=[left, right, top, bottom])[0]\r\n",
    "    \r\n",
    "    # Grab the largest distance\r\n",
    "    max_distance = distance.max()\r\n",
    "    \r\n",
    "    # Create a circle with 90% radius of the max euclidean distance\r\n",
    "    radius = int(0.8 * max_distance)\r\n",
    "    circumference = (2 * np.pi * radius)\r\n",
    "\r\n",
    "    # Not grab an ROI of only that circle\r\n",
    "    circular_roi = np.zeros(thresholded.shape[:2], dtype=\"uint8\")\r\n",
    "    \r\n",
    "    # draw the circular ROI\r\n",
    "    cv2.circle(circular_roi, (cX, cY), radius, 255, 10)\r\n",
    "    \r\n",
    "    \r\n",
    "    # Using bit-wise AND with the cirle ROI as a mask.\r\n",
    "    # This then returns the cut out obtained using the mask on the thresholded hand image.\r\n",
    "    circular_roi = cv2.bitwise_and(thresholded, thresholded, mask=circular_roi)\r\n",
    "\r\n",
    "    # Grab contours in circle ROI\r\n",
    "    image, contours, hierarchy = cv2.findContours(circular_roi.copy(), cv2.RETR_EXTERNAL, cv2.CHAIN_APPROX_NONE)\r\n",
    "\r\n",
    "    # Finger count starts at 0\r\n",
    "    count = 0\r\n",
    "\r\n",
    "    # loop through the contours to see if we count any more fingers.\r\n",
    "    for cnt in contours:\r\n",
    "        \r\n",
    "        # Bounding box of countour\r\n",
    "        (x, y, w, h) = cv2.boundingRect(cnt)\r\n",
    "\r\n",
    "        # Increment count of fingers based on two conditions:\r\n",
    "        \r\n",
    "        # 1. Contour region is not the very bottom of hand area (the wrist)\r\n",
    "        out_of_wrist = ((cY + (cY * 0.25)) > (y + h))\r\n",
    "        \r\n",
    "        # 2. Number of points along the contour does not exceed 25% of the circumference of the circular ROI (otherwise we're counting points off the hand)\r\n",
    "        limit_points = ((circumference * 0.25) > cnt.shape[0])\r\n",
    "        \r\n",
    "        \r\n",
    "        if  out_of_wrist and limit_points:\r\n",
    "            count += 1\r\n",
    "\r\n",
    "    return count"
   ],
   "outputs": [],
   "metadata": {}
  },
  {
   "cell_type": "markdown",
   "source": [
    "## Run Program"
   ],
   "metadata": {}
  },
  {
   "cell_type": "code",
   "execution_count": 10,
   "source": [
    "cam = cv2.VideoCapture(0)\r\n",
    "\r\n",
    "# Intialize a frame count\r\n",
    "num_frames = 0\r\n",
    "\r\n",
    "# keep looping, until interrupted\r\n",
    "while True:\r\n",
    "    # get the current frame\r\n",
    "    ret, frame = cam.read()\r\n",
    "\r\n",
    "    # flip the frame so that it is not the mirror view\r\n",
    "    frame = cv2.flip(frame, 1)\r\n",
    "\r\n",
    "    # clone the frame\r\n",
    "    frame_copy = frame.copy()\r\n",
    "\r\n",
    "    # Grab the ROI from the frame\r\n",
    "    roi = frame[roi_top:roi_bottom, roi_right:roi_left]\r\n",
    "\r\n",
    "    # Apply grayscale and blur to ROI\r\n",
    "    gray = cv2.cvtColor(roi, cv2.COLOR_BGR2GRAY)\r\n",
    "    gray = cv2.GaussianBlur(gray, (7, 7), 0)\r\n",
    "\r\n",
    "    # For the first 30 frames we will calculate the average of the background.\r\n",
    "    # We will tell the user while this is happening\r\n",
    "    if num_frames < 60:\r\n",
    "        calc_accum_avg(gray, accumulated_weight)\r\n",
    "        if num_frames <= 59:\r\n",
    "            cv2.putText(frame_copy, \"WAIT! GETTING BACKGROUND AVG.\", (200, 400), cv2.FONT_HERSHEY_SIMPLEX, 1, (0,0,255), 2)\r\n",
    "            cv2.imshow(\"Finger Count\",frame_copy)\r\n",
    "            \r\n",
    "    else:\r\n",
    "        # now that we have the background, we can segment the hand.\r\n",
    "        \r\n",
    "        # segment the hand region\r\n",
    "        hand = segment(gray)\r\n",
    "\r\n",
    "        # First check if we were able to actually detect a hand\r\n",
    "        if hand is not None:\r\n",
    "            \r\n",
    "            # unpack\r\n",
    "            thresholded, hand_segment = hand\r\n",
    "\r\n",
    "            # Draw contours around hand segment\r\n",
    "            cv2.drawContours(frame_copy, [hand_segment + (roi_right, roi_top)], -1, (255, 0, 0),1)\r\n",
    "\r\n",
    "            # Count the fingers\r\n",
    "            fingers = count_fingers(thresholded, hand_segment)\r\n",
    "\r\n",
    "            # Display count\r\n",
    "            cv2.putText(frame_copy, str(fingers), (70, 45), cv2.FONT_HERSHEY_SIMPLEX, 1, (0,0,255), 2)\r\n",
    "\r\n",
    "            # Also display the thresholded image\r\n",
    "            cv2.imshow(\"Thesholded\", thresholded)\r\n",
    "\r\n",
    "    # Draw ROI Rectangle on frame copy\r\n",
    "    cv2.rectangle(frame_copy, (roi_left, roi_top), (roi_right, roi_bottom), (0,0,255), 5)\r\n",
    "\r\n",
    "    # increment the number of frames for tracking\r\n",
    "    num_frames += 1\r\n",
    "\r\n",
    "    # Display the frame with segmented hand\r\n",
    "    cv2.imshow(\"Finger Count\", frame_copy)\r\n",
    "\r\n",
    "\r\n",
    "    # Close windows with Esc\r\n",
    "    k = cv2.waitKey(1) & 0xFF\r\n",
    "\r\n",
    "    if k == 27:\r\n",
    "        break\r\n",
    "\r\n",
    "# Release the camera and destroy all the windows\r\n",
    "cam.release()\r\n",
    "cv2.destroyAllWindows()"
   ],
   "outputs": [],
   "metadata": {}
  },
  {
   "cell_type": "code",
   "execution_count": null,
   "source": [],
   "outputs": [],
   "metadata": {}
  },
  {
   "cell_type": "code",
   "execution_count": null,
   "source": [],
   "outputs": [],
   "metadata": {}
  }
 ],
 "metadata": {
  "kernelspec": {
   "display_name": "Python 3",
   "language": "python",
   "name": "python3"
  },
  "language_info": {
   "codemirror_mode": {
    "name": "ipython",
    "version": 3
   },
   "file_extension": ".py",
   "mimetype": "text/x-python",
   "name": "python",
   "nbconvert_exporter": "python",
   "pygments_lexer": "ipython3",
   "version": "3.6.6"
  }
 },
 "nbformat": 4,
 "nbformat_minor": 2
}